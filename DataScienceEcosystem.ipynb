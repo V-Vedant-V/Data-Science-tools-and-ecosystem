{
 "cells": [
  {
   "cell_type": "markdown",
   "id": "568883a0-dfc4-44bf-a516-d61d5a898cb0",
   "metadata": {},
   "source": [
    "# Data Science Tools and Ecosystem"
   ]
  },
  {
   "cell_type": "markdown",
   "id": "c382f8e1-d5c2-4843-95f4-58f057a0327d",
   "metadata": {},
   "source": [
    "### *In this notebook, Data Science Tools and Ecosystems are summarized.*"
   ]
  },
  {
   "cell_type": "markdown",
   "id": "ce306b09-7d56-4518-8362-62683330486f",
   "metadata": {},
   "source": [
    "**Here are the top 5 programming languages widely used in data science:**\n",
    "1. **Python**\n",
    "    - Popular for its readability and simplicity.\n",
    "    - Extensive libraries like Pandas, NumPy, SciPy, scikit-learn, and TensorFlow.\n",
    "    - Versatile for data analysis, machine learning, and visualization.\n",
    "\n",
    "2. **R**\n",
    "    - Designed specifically for statistics and data analysis.\n",
    "    - Rich set of packages like ggplot2, dplyr, and caret.\n",
    "    - Strong community support for statistical computing and graphics.\n",
    "\n",
    "3. **SQL**\n",
    "    - Essential for querying and managing databases.\n",
    "    - Efficient in handling large datasets stored in relational databases.\n",
    "    - Used for data manipulation and extraction in data science workflows.\n",
    "\n",
    "4. **Julia**\n",
    "    - High-performance language for numerical and scientific computing.\n",
    "    - Combines the ease of Python with the speed of C.\n",
    "    - Growing popularity for data science and machine learning applications.\n",
    "\n",
    "5. **Scala**\n",
    "    - Used with Apache Spark for big data processing.\n",
    "    - Functional programming capabilities.\n",
    "    - Efficient for large-scale data processing and analytics."
   ]
  },
  {
   "cell_type": "markdown",
   "id": "b7506542-a84e-4443-bd63-afe3515de384",
   "metadata": {},
   "source": [
    "**Here are the top 5 libraries widely used by data scientists:**\n",
    "\n",
    "1. **Pandas**\n",
    "\n",
    "    - Python library for data manipulation and analysis.\n",
    "    - Provides data structures like DataFrames for handling structured data.\n",
    "    - Useful for data cleaning, preparation, and exploration.\n",
    "\n",
    "        \n",
    "2. **NumPy**\n",
    "\n",
    "    - Fundamental package for numerical computing in Python.\n",
    "    - Supports large, multi-dimensional arrays and matrices.\n",
    "    - Provides a collection of mathematical functions to operate on these arrays.\n",
    "\n",
    "                       \n",
    "3. **scikit-learn**\n",
    "\n",
    "    - Machine learning library for Python.\n",
    "    - Offers simple and efficient tools for data mining and data analysis.\n",
    "    - Includes various algorithms for classification, regression, clustering, and more.\n",
    "\n",
    "        \n",
    "4. **TensorFlow**\n",
    "\n",
    "    - Open-source library for machine learning and deep learning.\n",
    "    - Developed by Google Brain Team.\n",
    "    - Supports building and training of neural networks for various applications.\n",
    "\n",
    "                                        \n",
    "5. **Matplotlib**\n",
    "\n",
    "    - Plotting library for the Python programming language.\n",
    "    - Used for creating static, interactive, and animated visualizations.\n",
    "    - Essential for data visualization and presenting insights."
   ]
  },
  {
   "cell_type": "markdown",
   "id": "ecc660c3-320c-4649-b51d-3593f19aadbf",
   "metadata": {},
   "source": [
    "**Here is the table containing top three open-source development environment tools commonly used in data science:**\n",
    "\n",
    "| Data Science Tools |\n",
    "|--------------------|\n",
    "| Jupyter Notebook |\n",
    "| RStudio |\n",
    "| VS Code |"
   ]
  },
  {
   "cell_type": "markdown",
   "id": "02f2b6d7-b6b0-40f9-850f-fbfc69dcc741",
   "metadata": {},
   "source": [
    "### Below are a few examples of evaluating arithmetic expressions in Python"
   ]
  },
  {
   "cell_type": "code",
   "execution_count": 1,
   "id": "3befaaa3-4c4c-4fd3-b831-fa6846ef87ec",
   "metadata": {},
   "outputs": [
    {
     "name": "stdout",
     "output_type": "stream",
     "text": [
      "8\n",
      "-2\n",
      "15\n",
      "0.6\n"
     ]
    }
   ],
   "source": [
    "x = 3\n",
    "y = 5\n",
    "\n",
    "print(x + y)\n",
    "\n",
    "print(x - y)\n",
    "\n",
    "print(x * y)\n",
    "\n",
    "print(x / y)"
   ]
  },
  {
   "cell_type": "code",
   "execution_count": 2,
   "id": "6632de08-2d30-4e67-9569-c7b8b87535f3",
   "metadata": {},
   "outputs": [
    {
     "data": {
      "text/plain": [
       "17"
      ]
     },
     "execution_count": 2,
     "metadata": {},
     "output_type": "execute_result"
    }
   ],
   "source": [
    "# This is a simple arithmetic expression to multiply then add integers.\n",
    "\n",
    "(3*4)+5"
   ]
  },
  {
   "cell_type": "code",
   "execution_count": 4,
   "id": "a5e50fe0-6d27-490e-8585-f30e0b762d55",
   "metadata": {},
   "outputs": [
    {
     "name": "stdout",
     "output_type": "stream",
     "text": [
      "3.3333333333333335\n"
     ]
    }
   ],
   "source": [
    "# Below function will convert 200 minutes to hours.\n",
    "\n",
    "def minutesToHours(min):\n",
    "    hrs = min / 60\n",
    "    print(hrs)\n",
    "\n",
    "minutesToHours(200)\n",
    "    "
   ]
  },
  {
   "cell_type": "markdown",
   "id": "f73e0816-c544-4ea8-86b1-261c147d1eea",
   "metadata": {},
   "source": [
    "**Objectives:**\n",
    "- List the top 5 popular languages for Data Science.\n",
    "- List the top 5 libraries widely used by data scientists.\n",
    "- Create the table containing top three open-source development environment tools commonly used in data science.\n",
    "- write a few examples of evaluating arithmetic expressions in Python.\n"
   ]
  },
  {
   "cell_type": "markdown",
   "id": "625cae70-f086-45be-b6f9-06cdfc2fd221",
   "metadata": {},
   "source": [
    "## Author\n",
    "Vedant Mahajan"
   ]
  }
 ],
 "metadata": {
  "kernelspec": {
   "display_name": "Python 3 (ipykernel)",
   "language": "python",
   "name": "python3"
  },
  "language_info": {
   "codemirror_mode": {
    "name": "ipython",
    "version": 3
   },
   "file_extension": ".py",
   "mimetype": "text/x-python",
   "name": "python",
   "nbconvert_exporter": "python",
   "pygments_lexer": "ipython3",
   "version": "3.12.4"
  }
 },
 "nbformat": 4,
 "nbformat_minor": 5
}
